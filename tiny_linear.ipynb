{
 "cells": [
  {
   "cell_type": "code",
   "execution_count": 2,
   "id": "897f01d1",
   "metadata": {},
   "outputs": [],
   "source": [
    "import numpy as np\n",
    "from tinygrad import Tensor, nn\n",
    "from tinygrad.nn.optim import SGD"
   ]
  },
  {
   "cell_type": "code",
   "execution_count": 3,
   "id": "6c4e91c0",
   "metadata": {},
   "outputs": [],
   "source": [
    "# Step 1: Generate synthetic data: y = 2x + 1 + noise\n",
    "np.random.seed(42)\n",
    "x = np.random.uniform(-2, 2, size=100).astype(np.float32)\n",
    "y = 2 * x + 1 + np.random.normal(0, 0.5, size=100).astype(np.float32)\n",
    "\n",
    "# Convert to TinyGrad Tensors\n",
    "X = Tensor(x.reshape(-1, 1))  # Shape: (100, 1)\n",
    "Y = Tensor(y.reshape(-1, 1))  # Shape: (100, 1)"
   ]
  },
  {
   "cell_type": "code",
   "execution_count": 4,
   "id": "06bc05f5",
   "metadata": {},
   "outputs": [],
   "source": [
    "# Step 2: Define the linear regression model\n",
    "class LinearModel:\n",
    "    def __init__(self):\n",
    "        self.layer = nn.Linear(in_features=1, out_features=1)\n",
    "\n",
    "    def __call__(self, x):\n",
    "        return self.layer(x)  # y = x @ weight.T + bias\n",
    "\n",
    "# Instantiate model\n",
    "model = LinearModel()"
   ]
  },
  {
   "cell_type": "code",
   "execution_count": 6,
   "id": "df77763e",
   "metadata": {},
   "outputs": [],
   "source": [
    "# Step 3: Define optimizer and loss function\n",
    "optimizer = SGD(\n",
    "    [model.layer.weight, model.layer.bias], lr=0.01\n",
    ")  # Pass weight and bias directly\n",
    "\n",
    "\n",
    "def mse_loss(pred, true):\n",
    "    return ((pred - true) ** 2).mean()"
   ]
  },
  {
   "cell_type": "code",
   "execution_count": 7,
   "id": "e7a6528b",
   "metadata": {},
   "outputs": [
    {
     "name": "stdout",
     "output_type": "stream",
     "text": [
      "Epoch 10: Loss = 4.9250\n",
      "Epoch 20: Loss = 3.0378\n",
      "Epoch 30: Loss = 1.9207\n",
      "Epoch 40: Loss = 1.2536\n",
      "Epoch 50: Loss = 0.8516\n",
      "Epoch 60: Loss = 0.6071\n",
      "Epoch 70: Loss = 0.4569\n",
      "Epoch 80: Loss = 0.3637\n",
      "Epoch 90: Loss = 0.3054\n",
      "Epoch 100: Loss = 0.2686\n"
     ]
    }
   ],
   "source": [
    "# Step 4: Training loop\n",
    "Tensor.training = True  # Enable gradient tracking\n",
    "num_epochs = 100\n",
    "for epoch in range(num_epochs):\n",
    "    # Forward pass\n",
    "    pred = model(X)\n",
    "\n",
    "    # Compute loss\n",
    "    loss = mse_loss(pred, Y)\n",
    "\n",
    "    # Backpropagation\n",
    "    optimizer.zero_grad()\n",
    "    loss.backward()\n",
    "    optimizer.step()\n",
    "\n",
    "    if (epoch + 1) % 10 == 0:\n",
    "        print(f\"Epoch {epoch + 1}: Loss = {loss.numpy():.4f}\")\n",
    "\n",
    "Tensor.training = False  # Disable training mode"
   ]
  },
  {
   "cell_type": "code",
   "execution_count": 9,
   "id": "8be45ae1",
   "metadata": {},
   "outputs": [
    {
     "name": "stdout",
     "output_type": "stream",
     "text": [
      "Predicted y for x=3: --> 6.1488\n",
      "Learned weight: 1.7846\n",
      "Learned bias: 0.7950\n"
     ]
    }
   ],
   "source": [
    "# Step 5: Inference and evaluation\n",
    "test_x = Tensor([[3.0]])  # Test input\n",
    "pred_y = model(test_x)\n",
    "print(f\"Predicted y for x=3: --> {pred_y.numpy()[0][0]:.4f}\")  # Expected ~7\n",
    "print(f\"Learned weight: {model.layer.weight.numpy()[0][0]:.4f}\")  # Expected ~2\n",
    "print(f\"Learned bias: {model.layer.bias.numpy()[0]:.4f}\")  # Expected ~1"
   ]
  },
  {
   "cell_type": "code",
   "execution_count": null,
   "id": "65f2309f",
   "metadata": {},
   "outputs": [],
   "source": []
  }
 ],
 "metadata": {
  "kernelspec": {
   "display_name": "ml_dl",
   "language": "python",
   "name": "python3"
  },
  "language_info": {
   "codemirror_mode": {
    "name": "ipython",
    "version": 3
   },
   "file_extension": ".py",
   "mimetype": "text/x-python",
   "name": "python",
   "nbconvert_exporter": "python",
   "pygments_lexer": "ipython3",
   "version": "3.10.18"
  }
 },
 "nbformat": 4,
 "nbformat_minor": 5
}
