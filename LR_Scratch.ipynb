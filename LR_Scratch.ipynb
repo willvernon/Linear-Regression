{
 "cells": [
  {
   "cell_type": "code",
   "execution_count": 3,
   "id": "d1cad5d1",
   "metadata": {},
   "outputs": [],
   "source": [
    "import numpy as np\n",
    "\n",
    "\n",
    "class LinearRegression:\n",
    "    def __init__(self, learning_rate=0.01, iterations=1000):\n",
    "        \"\"\"\n",
    "        Initialize the model with hyperparameters.\n",
    "        - learning_rate: Step size for gradient descent updates.\n",
    "        - iterations: Number of gradient descent steps.\n",
    "        \"\"\"\n",
    "        self.learning_rate = learning_rate\n",
    "        self.iterations = iterations\n",
    "        self.weights = None  # Slopes (one per feature)\n",
    "        self.bias = None  # Intercept\n",
    "\n",
    "    def fit(self, X, y):\n",
    "        \"\"\"\n",
    "        Train the model using gradient descent.\n",
    "        - X: 2D array of features (samples x features)\n",
    "        - y: 1D array of targets\n",
    "        \"\"\"\n",
    "        # Get number of samples and features\n",
    "        m, n_features = X.shape\n",
    "        self.weights = np.zeros(n_features)  # Initialize weights to zeros\n",
    "        self.bias = 0  # Initialize bias to zero\n",
    "\n",
    "        for _ in range(self.iterations):\n",
    "            # Predict: y_pred = X * weights + bias (matrix multiplication)\n",
    "            y_pred = np.dot(X, self.weights) + self.bias\n",
    "\n",
    "            # Compute gradients (partial derivatives)\n",
    "            # dw = (1/m) * (X.T dot (y_pred - y))\n",
    "            dw = (1 / m) * np.dot(X.T, (y_pred - y))\n",
    "            # db = (1/m) * sum(y_pred - y)\n",
    "            db = (1 / m) * np.sum(y_pred - y)\n",
    "\n",
    "            # Update parameters\n",
    "            self.weights -= self.learning_rate * dw\n",
    "            self.bias -= self.learning_rate * db\n",
    "\n",
    "    def predict(self, X):\n",
    "        \"\"\"\n",
    "        Make predictions on new data.\n",
    "        - X: 2D array of features\n",
    "        Returns: Predicted targets\n",
    "        \"\"\"\n",
    "        return np.dot(X, self.weights) + self.bias"
   ]
  },
  {
   "cell_type": "markdown",
   "id": "6367ab83",
   "metadata": {},
   "source": [
    "# Random Data"
   ]
  },
  {
   "cell_type": "code",
   "execution_count": 4,
   "id": "be9be9b7",
   "metadata": {},
   "outputs": [
    {
     "name": "stdout",
     "output_type": "stream",
     "text": [
      "Predictions: [12.94420008 22.85044421]\n",
      "Weights: [1.98124882]\n",
      "Bias: 3.0379559568823784\n"
     ]
    }
   ],
   "source": [
    "## Using with Sample Data\n",
    "# Gen sample data (or load your own)\n",
    "np.random.seed(42)  # For reproducibility\n",
    "X = np.random.rand(100, 1) * 10  # 100 samples, 1 feature (e.g., house size)\n",
    "y = 2 * X.squeeze() + 3 + np.random.randn(100)  # True line: y = 2x + 3 + noise\n",
    "\n",
    "# Train the model\n",
    "model = LinearRegression(learning_rate=0.01, iterations=1000)\n",
    "model.fit(X, y)\n",
    "\n",
    "# Make predictions\n",
    "new_X = np.array([[5], [10]])  # New data points\n",
    "predictions = model.predict(new_X)\n",
    "print(\"Predictions:\", predictions)  # Should be around [13, 23]\n",
    "\n",
    "# Learned parameters (for inspection)\n",
    "print(\"Weights:\", model.weights)  # Should be ~[2]\n",
    "print(\"Bias:\", model.bias)  # Should be ~3"
   ]
  },
  {
   "cell_type": "markdown",
   "id": "9d85e1c7",
   "metadata": {},
   "source": [
    "# "
   ]
  },
  {
   "cell_type": "code",
   "execution_count": null,
   "id": "ab6fc779",
   "metadata": {},
   "outputs": [],
   "source": []
  }
 ],
 "metadata": {
  "kernelspec": {
   "display_name": "ml_dl",
   "language": "python",
   "name": "python3"
  },
  "language_info": {
   "codemirror_mode": {
    "name": "ipython",
    "version": 3
   },
   "file_extension": ".py",
   "mimetype": "text/x-python",
   "name": "python",
   "nbconvert_exporter": "python",
   "pygments_lexer": "ipython3",
   "version": "3.10.18"
  }
 },
 "nbformat": 4,
 "nbformat_minor": 5
}
